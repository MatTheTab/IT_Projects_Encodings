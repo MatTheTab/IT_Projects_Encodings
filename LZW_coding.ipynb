{
  "nbformat": 4,
  "nbformat_minor": 0,
  "metadata": {
    "colab": {
      "provenance": []
    },
    "kernelspec": {
      "name": "python3",
      "display_name": "Python 3"
    },
    "language_info": {
      "name": "python"
    }
  },
  "cells": [
    {
      "cell_type": "markdown",
      "source": [
        "# LZW Coding Project"
      ],
      "metadata": {
        "id": "UoWOpPfLlGMK"
      }
    },
    {
      "cell_type": "markdown",
      "source": [
        "### Functions"
      ],
      "metadata": {
        "id": "jnyzPAXYmHRM"
      }
    },
    {
      "cell_type": "code",
      "source": [
        "def convert_image_to_ascii(image):\n",
        "    new_image=[]\n",
        "    for sign in image:\n",
        "        new_image.append(chr(sign))\n",
        "    return new_image"
      ],
      "metadata": {
        "id": "h8vPY2ACiodZ"
      },
      "execution_count": 23,
      "outputs": []
    },
    {
      "cell_type": "code",
      "source": [
        "def inverse_dict(encoded_dict):\n",
        "    '''\n",
        "    For each key, value inverts the relation\n",
        "    '''\n",
        "    decoded_dict={}\n",
        "    for key in encoded_dict.keys():\n",
        "        decoded_dict[encoded_dict[key]]=key\n",
        "    return decoded_dict"
      ],
      "metadata": {
        "id": "jQWByyI4xITx"
      },
      "execution_count": 24,
      "outputs": []
    },
    {
      "cell_type": "code",
      "execution_count": 25,
      "metadata": {
        "id": "JmIVytP8lDQU"
      },
      "outputs": [],
      "source": [
        "def get_ascii_dict():\n",
        "    '''\n",
        "    Returns a dictionary where for each character, its corresponding ASCII number is assigned\n",
        "    '''\n",
        "    ascii_dict = {}\n",
        "    for i in range(256):\n",
        "        ascii_dict[chr(i)] = i\n",
        "    return ascii_dict"
      ]
    },
    {
      "cell_type": "code",
      "source": [
        "def encode(text,encoded_dict):\n",
        "    '''\n",
        "    Given text and a dictionary of characters and their corresponding ASCII numbers, returns encoded text\n",
        "    '''\n",
        "    current_code=256\n",
        "    encoded_text=[]\n",
        "    current_char=''\n",
        "    place_holder_char=''\n",
        "    for char in text:\n",
        "        current_char+=char\n",
        "        try:\n",
        "            place_holder_char=encoded_dict[current_char]\n",
        "        except:\n",
        "            encoded_text.append(encoded_dict[current_char[:-1]])\n",
        "            encoded_dict[current_char]=current_code\n",
        "            current_code+=1\n",
        "            current_char=current_char[-1]\n",
        "    try:\n",
        "        encoded_text.append(encoded_dict[current_char])\n",
        "    except:\n",
        "        encoded_text.append(encoded_dict[current_char[:-1]])\n",
        "        encoded_text.append(encoded_dict[current_char[-1]])\n",
        "    return encoded_text"
      ],
      "metadata": {
        "id": "nqxqr_5bnBDr"
      },
      "execution_count": 26,
      "outputs": []
    },
    {
      "cell_type": "code",
      "source": [
        "def decode(text,encoded_dict):\n",
        "    '''\n",
        "    Decodes text given encoded text and dictionary containing numbers of ASCII characters for each character\n",
        "    '''\n",
        "    decoded_dict=inverse_dict(encoded_dict)\n",
        "    decoded_message = \"\"\n",
        "    current_char=\"\"\n",
        "    current_num=256\n",
        "    prev_char=text[0]\n",
        "    decoded_message+=decoded_dict[prev_char]\n",
        "    for char in text[1:]:\n",
        "        current_char=char\n",
        "        if current_char not in decoded_dict.keys():\n",
        "            prev_val=decoded_dict[prev_char]\n",
        "            prev_val=prev_val+prefix\n",
        "        else:\n",
        "            prev_val=decoded_dict[current_char]\n",
        "        decoded_message+=prev_val\n",
        "        prefix=prev_val[0]\n",
        "        decoded_dict[current_num]=decoded_dict[prev_char]+prefix\n",
        "        current_num+=1\n",
        "        prev_char=current_char\n",
        "    return decoded_message"
      ],
      "metadata": {
        "id": "G06ewUyJuR9X"
      },
      "execution_count": 27,
      "outputs": []
    },
    {
      "cell_type": "markdown",
      "source": [
        "### Encoding and Decoding the Wikipedia text files"
      ],
      "metadata": {
        "id": "8Gob3qlEHOr3"
      }
    },
    {
      "cell_type": "markdown",
      "source": [
        "#### Encoding and Decoding “norm_wiki_sample.txt“"
      ],
      "metadata": {
        "id": "Z3CbPY4cKUCF"
      }
    },
    {
      "cell_type": "code",
      "source": [
        "f = open(\"/content/drive/MyDrive/norm_wiki_sample.txt\", \"r\")\n",
        "file_text=f.read()\n",
        "f.close()"
      ],
      "metadata": {
        "id": "_Eis3aEMJk9P"
      },
      "execution_count": 28,
      "outputs": []
    },
    {
      "cell_type": "markdown",
      "source": [
        "Encoding and printing the first 1000 chars of encoded text:"
      ],
      "metadata": {
        "id": "Fc0BKzKNLZuC"
      }
    },
    {
      "cell_type": "code",
      "source": [
        "ascii_dict=get_ascii_dict()\n",
        "encoded=encode(file_text,ascii_dict)\n",
        "print(encoded[:1000])"
      ],
      "metadata": {
        "colab": {
          "base_uri": "https://localhost:8080/"
        },
        "id": "KBEiTJyqrSWW",
        "outputId": "306e3b20-85e1-402a-c18a-4b6ffeabab8a"
      },
      "execution_count": 29,
      "outputs": [
        {
          "output_type": "stream",
          "name": "stdout",
          "text": [
            "[32, 97, 108, 98, 101, 114, 116, 32, 111, 102, 32, 112, 114, 117, 115, 115, 105, 97, 32, 49, 55, 32, 109, 97, 121, 274, 52, 57, 48, 32, 50, 284, 278, 114, 99, 104, 274, 53, 54, 56, 32, 119, 97, 115, 32, 116, 104, 101, 32, 108, 298, 262, 103, 114, 97, 110, 100, 277, 306, 260, 263, 265, 301, 303, 116, 101, 117, 116, 111, 110, 105, 99, 32, 107, 325, 103, 104, 116, 299, 119, 104, 111, 256, 102, 320, 114, 32, 99, 324, 118, 260, 116, 105, 110, 103, 300, 337, 108, 322, 302, 309, 325, 115, 109, 32, 259, 99, 97, 109, 319, 302, 32, 102, 105, 114, 115, 262, 109, 324, 97, 289, 291, 264, 300, 366, 100, 117, 290, 280, 378, 267, 269, 271, 273, 318, 32, 115, 101, 99, 117, 305, 114, 105, 122, 101, 312, 371, 97, 320, 379, 403, 32, 101, 364, 114, 103, 400, 367, 114, 111, 359, 390, 102, 111, 114, 409, 277, 374, 371, 326, 391, 116, 403, 303, 378, 390, 320, 322, 324, 425, 329, 105, 331, 333, 256, 258, 346, 296, 298, 379, 303, 368, 370, 262, 321, 414, 112, 101, 310, 32, 268, 108, 315, 323, 407, 402, 98, 108, 105, 115, 291, 267, 111, 320, 402, 110, 347, 358, 256, 299, 390, 264, 368, 99, 272, 108, 426, 428, 455, 101, 463, 103, 105, 324, 316, 32, 104, 464, 304, 310, 100, 299, 366, 467, 345, 312, 348, 371, 268, 364, 471, 257, 32, 348, 445, 266, 111, 463, 347, 362, 481, 115, 267, 453, 312, 385, 414, 469, 427, 471, 464, 359, 509, 105, 439, 453, 114, 108, 280, 402, 411, 455, 395, 348, 350, 390, 386, 270, 272, 110, 494, 311, 299, 418, 341, 110, 531, 533, 391, 105, 120, 32, 100, 393, 97, 558, 299, 49, 53, 49, 48, 563, 294, 256, 277, 408, 259, 341, 430, 366, 98, 356, 558, 110, 98, 117, 410, 256, 110, 115, 98, 97, 290, 360, 356, 588, 574, 303, 336, 269, 429, 265, 336, 302, 110, 122, 512, 457, 114, 545, 257, 572, 262, 299, 485, 393, 347, 489, 444, 308, 495, 313, 371, 315, 104, 560, 589, 111, 117, 438, 256, 98, 623, 262, 336, 452, 299, 378, 273, 114, 101, 345, 370, 507, 592, 557, 393, 463, 325, 349, 367, 419, 116, 117, 551, 490, 431, 321, 323, 325, 327, 436, 438, 497, 303, 297, 299, 273, 115, 107, 105, 108, 457, 312, 112, 512, 529, 326, 507, 560, 109, 348, 464, 116, 309, 323, 341, 616, 457, 560, 315, 616, 100, 105, 501, 311, 101, 412, 635, 637, 392, 510, 558, 99, 643, 596, 510, 432, 654, 425, 419, 558, 341, 336, 119, 636, 686, 441, 261, 296, 336, 443, 299, 115, 121, 109, 112, 403, 302, 514, 351, 697, 408, 495, 632, 265, 288, 347, 545, 353, 318, 341, 635, 259, 667, 412, 97, 103, 97, 502, 262, 390, 362, 301, 671, 327, 290, 581, 588, 616, 390, 336, 553, 414, 278, 545, 408, 112, 369, 303, 98, 280, 343, 110, 637, 733, 540, 366, 703, 434, 327, 402, 404, 348, 459, 273, 467, 523, 310, 262, 616, 355, 400, 529, 375, 280, 635, 257, 416, 366, 492, 299, 649, 699, 365, 303, 665, 645, 385, 512, 755, 366, 375, 356, 411, 505, 262, 661, 342, 324, 447, 364, 312, 766, 702, 792, 116, 384, 265, 107, 309, 107, 119, 508, 545, 563, 50, 53, 440, 607, 266, 668, 411, 312, 781, 260, 115, 374, 481, 111, 723, 726, 390, 802, 350, 616, 509, 635, 648, 604, 717, 829, 345, 618, 312, 119, 529, 291, 390, 381, 383, 646, 708, 105, 109, 392, 108, 265, 786, 493, 302, 369, 662, 713, 608, 537, 457, 829, 266, 268, 543, 273, 813, 102, 744, 532, 280, 467, 517, 260, 623, 878, 749, 624, 291, 795, 621, 842, 364, 300, 414, 117, 462, 660, 862, 510, 452, 298, 784, 114, 280, 747, 815, 464, 748, 488, 545, 640, 305, 547, 583, 312, 679, 453, 115, 581, 101, 730, 510, 748, 757, 425, 752, 376, 407, 110, 97, 908, 312, 492, 416, 337, 467, 763, 347, 483, 390, 110, 111, 908, 662, 311, 884, 111, 118, 689, 446, 419, 510, 101, 120, 452, 584, 932, 651, 366, 551, 119, 553, 932, 427, 462, 464, 302, 669, 885, 388, 545, 343, 581, 629, 660, 444, 587, 347, 345, 883, 869, 452, 397, 507, 670, 513, 326, 299, 106, 111, 677, 645, 390, 684, 103, 117, 701, 681, 743, 117, 883, 831, 54, 926, 256, 99, 320, 690, 32, 649, 464, 489, 861, 301, 911, 522, 975, 784, 299, 509, 112, 108, 468, 771, 726, 959, 346, 104, 414, 828, 762, 895, 341, 290, 375, 457, 299, 118, 338, 340, 510, 464, 930, 1009, 807, 624, 585, 581, 350, 779, 260, 869, 883, 278, 280, 563, 52, 295, 606, 442, 1029, 977, 465, 412, 115, 290, 111, 512, 1031, 761, 637, 916, 111, 119, 605, 957, 418, 649, 558, 312, 657, 585, 260, 350, 1022, 695, 529, 280, 509, 1068, 52, 491, 303, 467, 373, 1019, 342, 395, 854, 303, 616, 375, 439, 722, 679, 434, 271, 1004, 366, 119, 419, 107, 933, 260, 298, 109, 269, 484, 348, 757, 839, 957, 362, 517, 375, 1104, 110, 551, 579, 1095, 712, 835, 548, 348, 507, 121, 531, 334, 260, 303, 699, 623, 1091, 360, 892, 929, 784, 484, 392, 471, 811, 490, 302, 97, 118, 916, 97, 120, 969, 663, 320, 112, 1104, 367, 485, 262, 343, 721, 485, 668, 847, 97, 107, 303, 381, 319, 337, 736, 303, 953, 304, 324, 411, 341, 259, 539, 583, 767, 104, 753, 291, 924, 839, 118, 744, 305, 908, 726, 768, 368, 1077, 483, 509, 616, 722, 395, 391, 107, 257, 105, 440, 842, 342, 97, 595, 312, 1206, 397, 896, 484, 486, 488, 1129, 1216, 671, 514, 507, 688, 517, 322, 1171, 879, 391, 967, 629, 493, 368, 941, 481, 1148, 375, 1049, 369]\n"
          ]
        }
      ]
    },
    {
      "cell_type": "markdown",
      "source": [
        "Decoding and printing the first 1000 chars of decoded text:"
      ],
      "metadata": {
        "id": "I8xqzAvlLrR3"
      }
    },
    {
      "cell_type": "code",
      "source": [
        "ascii_dict=get_ascii_dict()\n",
        "decoded=decode(encoded,ascii_dict)\n",
        "print(decoded[:1000])"
      ],
      "metadata": {
        "colab": {
          "base_uri": "https://localhost:8080/"
        },
        "id": "GFeQcrykLqgD",
        "outputId": "cf96cab0-0171-4284-8d7d-1ffe92ce6264"
      },
      "execution_count": 30,
      "outputs": [
        {
          "output_type": "stream",
          "name": "stdout",
          "text": [
            " albert of prussia 17 may 1490 20 march 1568 was the last grand master of the teutonic knights who after converting to lutheranism became the first monarch of the duchy of prussia the secularized state that emerged from the former monastic state of the teutonic knights albert was the first european ruler to establish protestantism as the official state religion of his lands he proved instrumental in the political spread of protestantism in its early stage ruling the prussian lands for nearly six decades 15101568 a member of the brandenburg ansbach branch of the house of hohenzollern albert s election as grand master had brought about hopes of a reversal of the declining fortune of the teutonic knights he was a skilled political administrator and leader and did indeed reverse the decline of the teutonic order however albert who was sympathetic to the demands of martin luther rebelled against the catholic church and the holy roman empire by converting the teutonic state into a protestant\n"
          ]
        }
      ]
    },
    {
      "cell_type": "markdown",
      "source": [
        "#### Encoding and Decoding “wiki_sample.txt“"
      ],
      "metadata": {
        "id": "DMfdCadsKfix"
      }
    },
    {
      "cell_type": "code",
      "source": [
        "f = open(\"/content/drive/MyDrive/wiki_sample.txt\", \"r\")\n",
        "file_text=f.read()\n",
        "f.close()"
      ],
      "metadata": {
        "id": "JJp30v6wKoGS"
      },
      "execution_count": 31,
      "outputs": []
    },
    {
      "cell_type": "markdown",
      "source": [
        "Encoding and printing the first 1000 characters of encoded text:"
      ],
      "metadata": {
        "id": "wJC3RswVTpW_"
      }
    },
    {
      "cell_type": "code",
      "source": [
        "ascii_dict=get_ascii_dict()\n",
        "encoded=encode(file_text,ascii_dict)\n",
        "print(encoded[:1000])"
      ],
      "metadata": {
        "colab": {
          "base_uri": "https://localhost:8080/"
        },
        "id": "9xyuve3bTxR0",
        "outputId": "7b6dba86-5a25-4290-deb6-b454757f0179"
      },
      "execution_count": 32,
      "outputs": [
        {
          "output_type": "stream",
          "name": "stdout",
          "text": [
            "[64, 64, 49, 53, 49, 52, 32, 65, 108, 98, 101, 114, 116, 32, 111, 102, 32, 80, 114, 117, 115, 115, 105, 97, 32, 40, 32, 49, 55, 32, 77, 97, 121, 282, 52, 57, 48, 32, 50, 292, 286, 114, 99, 104, 282, 53, 54, 56, 32, 41, 32, 119, 97, 115, 32, 116, 104, 101, 32, 108, 308, 268, 71, 114, 97, 110, 100, 285, 316, 266, 269, 271, 311, 313, 84, 101, 117, 116, 111, 110, 105, 99, 32, 75, 335, 103, 104, 116, 309, 44, 306, 104, 111, 32, 97, 102, 116, 325, 99, 334, 118, 266, 116, 105, 110, 103, 310, 348, 76, 332, 312, 319, 335, 115, 109, 32, 345, 265, 99, 97, 109, 313, 328, 32, 102, 105, 114, 115, 268, 109, 334, 97, 297, 299, 270, 310, 312, 32, 68, 117, 298, 288, 390, 273, 275, 277, 279, 345, 378, 115, 101, 99, 117, 315, 114, 105, 122, 101, 322, 383, 97, 352, 391, 416, 32, 101, 376, 114, 103, 413, 379, 114, 111, 370, 378, 102, 111, 114, 422, 285, 386, 383, 336, 32, 83, 116, 416, 313, 390, 378, 330, 332, 334, 438, 339, 105, 341, 343, 32, 46, 262, 264, 357, 306, 308, 391, 313, 380, 382, 268, 69, 117, 427, 112, 101, 320, 32, 274, 108, 325, 333, 420, 415, 98, 108, 105, 115, 299, 273, 111, 352, 415, 110, 358, 369, 349, 309, 378, 270, 380, 99, 278, 108, 32, 415, 417, 114, 101, 480, 103, 105, 334, 326, 32, 104, 481, 314, 320, 100, 309, 455, 72, 313, 112, 427, 356, 322, 359, 383, 274, 376, 488, 97, 498, 359, 461, 32, 112, 111, 480, 358, 374, 498, 115, 519, 470, 322, 398, 427, 486, 441, 488, 481, 370, 530, 105, 453, 470, 114, 108, 288, 415, 424, 371, 472, 408, 359, 361, 378, 399, 276, 278, 110, 512, 321, 309, 431, 114, 32, 110, 553, 555, 499, 105, 120, 32, 100, 406, 97, 582, 309, 281, 258, 49, 48, 258, 302, 304, 454, 262, 32, 376, 109, 265, 573, 444, 392, 66, 367, 582, 110, 98, 467, 103, 45, 65, 110, 115, 98, 97, 298, 32, 98, 367, 616, 601, 313, 72, 111, 275, 443, 271, 623, 312, 110, 122, 534, 474, 114, 568, 345, 263, 599, 268, 39, 309, 503, 406, 358, 507, 460, 318, 513, 323, 383, 325, 104, 584, 617, 427, 117, 452, 349, 98, 624, 268, 347, 469, 309, 390, 279, 502, 356, 382, 528, 508, 378, 582, 99, 480, 335, 360, 379, 432, 116, 117, 575, 671, 392, 446, 333, 335, 337, 450, 452, 515, 32, 517, 459, 309, 279, 115, 107, 105, 108, 474, 322, 533, 535, 336, 670, 584, 109, 359, 481, 116, 319, 333, 573, 648, 474, 584, 325, 345, 648, 100, 105, 522, 321, 101, 425, 667, 266, 405, 531, 673, 675, 626, 531, 685, 448, 337, 79, 114, 582, 573, 516, 111, 119, 101, 668, 559, 637, 458, 345, 119, 347, 694, 499, 121, 109, 112, 416, 312, 536, 362, 730, 421, 513, 664, 271, 296, 358, 568, 364, 328, 573, 345, 502, 265, 700, 425, 97, 103, 97, 523, 268, 378, 67, 758, 534, 438, 298, 467, 616, 719, 321, 531, 623, 577, 82, 428, 471, 69, 756, 381, 313, 98, 288, 354, 110, 668, 768, 563, 684, 331, 686, 438, 500, 313, 359, 476, 279, 484, 545, 320, 268, 648, 366, 413, 551, 387, 288, 502, 528, 370, 403, 392, 64, 32, 834, 836, 835, 838, 837, 837, 510, 309, 681, 674, 313, 832, 313, 75, 562, 508, 80, 534, 648, 455, 84, 392, 387, 367, 424, 526, 268, 307, 309, 805, 463, 376, 322, 803, 734, 829, 116, 397, 271, 75, 319, 107, 119, 32, 530, 258, 50, 53, 594, 748, 267, 532, 701, 424, 322, 279, 469, 382, 386, 498, 111, 758, 761, 378, 849, 677, 648, 530, 502, 680, 634, 753, 359, 356, 650, 322, 119, 551, 299, 672, 395, 104, 288, 572, 509, 105, 109, 405, 108, 271, 823, 511, 312, 381, 691, 885, 639, 309, 473, 815, 568, 565, 401, 753, 102, 780, 554, 288, 519, 111, 539, 266, 624, 930, 108, 311, 624, 341, 509, 313, 652, 414, 428, 377, 655, 479, 313, 912, 311, 531, 469, 308, 821, 114, 288, 847, 32, 865, 481, 374, 644, 568, 621, 569, 514, 349, 792, 711, 470, 115, 467, 101, 765, 531, 784, 951, 480, 337, 788, 388, 420, 110, 97, 961, 322, 510, 429, 348, 944, 112, 551, 278, 417, 378, 110, 111, 961, 695, 792, 944, 118, 722, 462, 432, 531, 101, 120, 469, 612, 987, 683, 313, 575, 119, 577, 987, 441, 479, 481, 312, 322, 937, 567, 972, 624, 886, 516, 962, 460, 615, 358, 356, 879, 568, 921, 892, 497, 532, 786, 536, 344, 32, 106, 111, 709, 677, 378, 76, 470, 103, 117, 733, 84, 432, 779, 117, 1048, 300, 50, 54, 559, 648, 1045, 425, 530, 681, 481, 507, 963, 914, 392, 819, 1031, 821, 309, 530, 112, 108, 485, 808, 761, 111, 807, 104, 427, 878, 799, 892, 1019, 67, 652, 554, 1025, 86, 349, 351, 475, 392, 481, 985, 733, 378, 65, 656, 613, 608, 32, 73, 488, 266, 921, 1072, 286, 288, 258, 52, 303, 455, 931, 477, 1032, 480, 482, 425, 115, 298, 111, 534, 1090, 568, 745, 266, 288, 333, 119, 568, 648, 431, 681, 582, 322, 689, 613, 266, 361, 85, 335, 668, 277, 872, 1072, 1130, 261, 1042, 532, 427, 385, 352, 322, 407, 950, 986, 981, 890, 267, 1056, 757, 711, 448, 277, 1061, 392, 119, 432, 107, 988, 69, 319, 369, 275, 32, 82, 101, 359, 347, 108, 890, 792, 784, 539, 387, 692, 101, 110, 575, 606, 1159, 325, 1133, 457, 886, 640, 379, 359, 670, 121, 553, 309, 744, 502, 972, 1093, 117, 1155, 617, 943, 984, 821, 472, 987, 1208, 116, 861, 508, 312, 97, 118, 1148, 97, 120, 1025, 719, 499, 352, 112, 954, 379, 503, 268, 354]\n"
          ]
        }
      ]
    },
    {
      "cell_type": "markdown",
      "source": [
        "Decoding and printing the first 1000 characters of decoded text"
      ],
      "metadata": {
        "id": "izut7PEtTx1X"
      }
    },
    {
      "cell_type": "code",
      "source": [
        "ascii_dict=get_ascii_dict()\n",
        "decoded=decode(encoded,ascii_dict)\n",
        "print(decoded[:1000])"
      ],
      "metadata": {
        "colab": {
          "base_uri": "https://localhost:8080/"
        },
        "id": "6d16ijfPT21o",
        "outputId": "f86eda2d-3717-4320-9953-66b9b30bf402"
      },
      "execution_count": 33,
      "outputs": [
        {
          "output_type": "stream",
          "name": "stdout",
          "text": [
            "@@1514 Albert of Prussia ( 17 May 1490 20 March 1568 ) was the last Grand Master of the Teutonic Knights , who after converting to Lutheranism , became the first monarch of the Duchy of Prussia , the secularized state that emerged from the former Monastic State of the Teutonic Knights . Albert was the first European ruler to establish Protestantism as the official state religion of his lands . He proved instrumental in the political spread of Protestantism in its early stage , ruling the Prussian lands for nearly six decades ( 15101568 ) . A member of the Brandenburg-Ansbach branch of the House of Hohenzollern , Albert 's election as Grand Master had brought about hopes of a reversal of the declining fortune of the Teutonic Knights . He was a skilled political administrator and leader , and did indeed reverse the decline of the Teutonic Order . However , Albert , who was sympathetic to the demands of Martin Luther , rebelled against the Catholic church , and the Holy Roman Empire by co\n"
          ]
        }
      ]
    },
    {
      "cell_type": "markdown",
      "source": [
        "### Encoding and Decoding the Image "
      ],
      "metadata": {
        "id": "q100N6wmHY2C"
      }
    },
    {
      "cell_type": "markdown",
      "source": [
        "Import:"
      ],
      "metadata": {
        "id": "FuHkQtosKfoE"
      }
    },
    {
      "cell_type": "code",
      "source": [
        "import numpy as npy"
      ],
      "metadata": {
        "id": "l24jvqdTKO23"
      },
      "execution_count": 34,
      "outputs": []
    },
    {
      "cell_type": "markdown",
      "source": [
        "Encoding an Image:"
      ],
      "metadata": {
        "id": "2cDxtdU4Kjpg"
      }
    },
    {
      "cell_type": "code",
      "source": [
        "f=open('/content/drive/MyDrive/lena.bmp','rb')\n",
        "image=npy.fromfile(f,'B')\n",
        "f.close()"
      ],
      "metadata": {
        "id": "b6VujL3lKLqB"
      },
      "execution_count": 35,
      "outputs": []
    },
    {
      "cell_type": "code",
      "source": [
        "ascii_dict=get_ascii_dict()\n",
        "encoded_image=encode(convert_image_to_ascii(image),ascii_dict)"
      ],
      "metadata": {
        "id": "msNYA5BJKT9P"
      },
      "execution_count": 36,
      "outputs": []
    },
    {
      "cell_type": "code",
      "source": [
        "print(encoded_image[:1000])"
      ],
      "metadata": {
        "colab": {
          "base_uri": "https://localhost:8080/"
        },
        "id": "Q9aISu5OKYbR",
        "outputId": "c3d47e1d-36f7-40a2-8ee4-0c4c06666a4f"
      },
      "execution_count": 39,
      "outputs": [
        {
          "output_type": "stream",
          "name": "stdout",
          "text": [
            "[66, 77, 74, 219, 175, 0, 261, 261, 138, 262, 124, 262, 168, 7, 261, 268, 261, 1, 0, 24, 262, 261, 192, 218, 260, 18, 11, 261, 281, 276, 285, 262, 255, 261, 288, 0, 290, 276, 255, 66, 71, 82, 115, 128, 194, 245, 40, 96, 184, 30, 21, 32, 133, 235, 1, 64, 51, 51, 19, 128, 102, 102, 38, 64, 316, 6, 160, 153, 153, 9, 60, 10, 215, 3, 36, 92, 143, 50, 286, 286, 4, 334, 337, 13, 36, 62, 9, 32, 58, 7, 30, 56, 10, 31, 58, 10, 32, 57, 5, 27, 52, 4, 26, 51, 354, 52, 6, 27, 48, 362, 48, 10, 29, 50, 367, 50, 5, 25, 43, 6, 26, 44, 8, 25, 44, 5, 22, 41, 11, 24, 40, 11, 373, 9, 23, 41, 7, 21, 39, 389, 41, 8, 24, 391, 23, 386, 27, 44, 7, 402, 8, 28, 45, 11, 29, 46, 12, 29, 48, 11, 28, 47, 415, 47, 13, 416, 14, 28, 50, 13, 27, 49, 16, 30, 52, 17, 31, 53, 15, 29, 51, 422, 50, 434, 51, 428, 52, 437, 14, 33, 54, 11, 30, 51, 447, 436, 445, 13, 32, 53, 9, 28, 49, 370, 16, 35, 56, 15, 454, 16, 445, 18, 461, 21, 35, 57, 469, 57, 22, 36, 58, 24, 38, 60, 26, 40, 62, 28, 39, 61, 26, 484, 474, 58, 21, 38, 59, 25, 42, 63, 28, 42, 64, 32, 45, 67, 41, 52, 74, 39, 56, 77, 43, 57, 79, 508, 79, 41, 55, 77, 42, 56, 78, 47, 60, 82, 52, 65, 87, 54, 67, 89, 59, 71, 527, 529, 63, 74, 94, 69, 80, 100, 72, 83, 103, 73, 84, 104, 78, 90, 108, 83, 95, 113, 90, 104, 122, 89, 103, 121, 92, 551, 94, 106, 124, 96, 108, 126, 99, 109, 127, 102, 112, 130, 105, 115, 133, 106, 114, 137, 106, 115, 135, 107, 116, 136, 110, 117, 136, 111, 118, 137, 112, 119, 138, 113, 589, 113, 118, 139, 115, 125, 143, 113, 123, 141, 110, 120, 138, 109, 119, 137, 602, 604, 121, 139, 109, 610, 612, 139, 106, 117, 137, 107, 118, 138, 105, 580, 102, 113, 133, 104, 577, 108, 119, 141, 622, 138, 97, 108, 130, 95, 106, 126, 98, 109, 129, 634, 128, 91, 102, 122, 86, 97, 117, 84, 95, 115, 81, 92, 112, 77, 88, 108, 74, 88, 107, 71, 84, 106, 68, 82, 104, 66, 82, 105, 669, 105, 61, 78, 104, 56, 76, 101, 677, 101, 49, 70, 98, 682, 98, 48, 69, 100, 45, 68, 100, 41, 66, 98, 36, 63, 97, 37, 65, 100, 40, 68, 103, 42, 70, 105, 44, 71, 108, 44, 73, 110, 43, 72, 111, 43, 73, 114, 44, 76, 119, 42, 75, 120, 41, 74, 725, 80, 125, 44, 83, 128, 47, 86, 131, 50, 86, 132, 49, 88, 133, 51, 89, 137, 49, 744, 47, 89, 136, 52, 93, 142, 54, 95, 144, 59, 100, 149, 64, 105, 154, 64, 104, 156, 63, 103, 155, 763, 156, 67, 107, 159, 67, 110, 161, 69, 112, 163, 70, 113, 164, 780, 782, 113, 162, 72, 115, 164, 721, 168, 79, 122, 171, 81, 124, 173, 85, 129, 176, 86, 130, 177, 732, 172, 80, 127, 171, 82, 128, 175, 809, 175, 80, 126, 174, 86, 128, 173, 89, 131, 176, 91, 133, 178, 823, 178, 820, 176, 828, 90, 132, 177, 92, 134, 179, 826, 831, 177, 830, 832, 826, 834, 179, 838, 828, 846, 821, 741, 177, 849, 849, 838, 91, 841, 832, 88, 130, 175, 853, 824, 838, 90, 821, 863, 176, 865, 854, 839, 821, 87, 129, 174, 871, 174, 840, 177, 862, 832, 878, 859, 132, 175, 823, 822, 133, 885, 829, 131, 873, 129, 172, 85, 127, 170, 817, 171, 896, 871, 172, 87, 818, 83, 125, 172, 79, 121, 168, 78, 120, 167, 79, 120, 169, 906, 168, 76, 118, 165, 718, 163, 74, 114, 166, 75, 115, 167, 920, 71, 113, 160, 70, 112, 159, 66, 109, 158, 66, 107, 156, 938, 156, 62, 102, 150, 53, 89, 135, 47, 729, 44, 74, 115, 40, 69, 108, 484, 96, 31, 52, 84, 16, 699, 14, 349, 18, 33, 59, 18, 32, 55, 434, 52, 428, 53, 17, 35, 66, 12, 30, 61, 16, 34, 63, 18, 37, 64, 12, 352, 12, 33, 971, 36, 57, 11, 454, 979, 53, 10, 28, 51, 6, 24, 47, 5, 23, 46, 397, 47, 10, 26, 49, 9, 25, 48, 7, 22, 48, 8, 1011, 450, 12, 959, 418, 1002, 41, 5, 21, 37, 1027, 37, 6, 23, 36, 3, 24, 39, 406, 45, 404, 44, 4, 22, 39, 1027, 38, 3, 18, 34, 2, 425, 3, 12, 26, 0, 10, 22, 5, 17, 29, 8, 1028, 6, 20, 38, 6, 1043, 1013, 42, 397, 41, 3, 976, 0, 16, 31, 1074, 31, 2, 17, 33, 392, 39, 12, 24, 42, 387, 43, 1053, 44, 12, 407, 422, 46, 428, 48, 969, 51, 20, 34, 53, 23, 37, 56, 1033, 58, 19, 32, 54, 15, 423, 10, 24, 43, 387, 44, 1112, 1088, 376, 1107, 48, 16, 29, 43, 9, 474, 6, 19, 33, 5, 12, 27, 9, 18, 31, 13, 25, 37, 389, 35, 387, 37, 10, 25, 34, 0, 15, 24, 2, 14, 275, 9, 21, 1055, 1148, 15, 31, 7, 19, 37, 8, 22, 40, 1070, 1010, 43, 13, 410, 15, 30, 46, 431, 49, 1093, 1115, 1131, 1171, 32, 51, 17, 1178, 1091, 45, 4, 964, 1050, 27, 261, 13, 5, 13, 26, 7, 1110, 0, 3, 16, 6, 18, 30, 7, 969, 1198, 36, 1136, 43, 19, 31, 49, 15, 27, 45, 1056, 40, 14, 376, 1215, 377, 1064, 1210, 45, 14, 27, 43, 1222, 1166, 26, 42, 1125, 36, 5, 1207, 1231, 31, 1161, 34, 1, 1059, 1237, 29, 1239, 2, 1134, 3, 1107, 1027, 34, 6, 1028, 8, 23, 39, 425, 45, 1152]\n"
          ]
        }
      ]
    },
    {
      "cell_type": "markdown",
      "source": [
        "Decoding an Image and saving it (decoded image should be present in the solution folder for these labs):"
      ],
      "metadata": {
        "id": "vEj90ROQKmwh"
      }
    },
    {
      "cell_type": "code",
      "source": [
        "ascii_dict=get_ascii_dict()\n",
        "decoded_image=decode(encoded_image,ascii_dict)\n",
        "\n",
        "\n",
        "x=npy.zeros(len(decoded_image),dtype='B')\n",
        "for i,el in enumerate(decoded_image):\n",
        "    x[i]=ord(el)\n",
        "\n",
        "f=open(\"/content/drive/MyDrive/decoded_image.bmp\",\"wb\")\n",
        "x.tofile(f)\n",
        "f.close()"
      ],
      "metadata": {
        "id": "NGTCBJs0IyO-"
      },
      "execution_count": 38,
      "outputs": []
    }
  ]
}